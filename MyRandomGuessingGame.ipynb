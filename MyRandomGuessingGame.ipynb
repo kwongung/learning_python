{
 "cells": [
  {
   "cell_type": "code",
   "execution_count": 11,
   "metadata": {},
   "outputs": [
    {
     "name": "stdout",
     "output_type": "stream",
     "text": [
      "Your pick of 91 is getting warmer\n"
     ]
    },
    {
     "name": "stdin",
     "output_type": "stream",
     "text": [
      "Try again 92\n"
     ]
    },
    {
     "name": "stdout",
     "output_type": "stream",
     "text": [
      "You pick of 92 is corret!\n"
     ]
    }
   ],
   "source": [
    "import random\n",
    "from IPython.display import clear_output\n",
    "\n",
    "yourpick1 = int(input('Please pick a number between 1 an 100'))\n",
    "rannum = random.randrange(1, 100)\n",
    "print(rannum)\n",
    "\n",
    "while yourpick1 not in range(1,100):\n",
    "    print(f'Your pick of {yourpick} is out of bounds. Try again')\n",
    "    yourpick1 = int(input('Please pick a number between 1 an 100'))\n",
    "\n",
    "if yourpick1!=rannum:\n",
    "    if abs(yourpick1-rannum)<=10:\n",
    "        print('Warm')\n",
    "    else:\n",
    "        print('Cold')\n",
    "    \n",
    "yourpick2 = int(input('Try again'))\n",
    "    \n",
    "while yourpick2!=rannum:\n",
    "    \n",
    "    \n",
    "    print(rannum)\n",
    "    \n",
    "    if abs(yourpick2-rannum)<abs(yourpick1-rannum):\n",
    "        clear_output()\n",
    "        print(f'Your pick of {yourpick2} is getting warmer')\n",
    "        \n",
    "    else:\n",
    "        clear_output()\n",
    "        print(f'Your pick of {yourpick2} is getting colder')\n",
    "\n",
    "\n",
    "    yourpick1 = yourpick2\n",
    "    \n",
    "    yourpick2 = int(input('Try again'))\n",
    "       \n",
    "else:\n",
    "    print(f'You pick of {rannum} is corret!')\n",
    "        \n",
    "\n"
   ]
  }
 ],
 "metadata": {
  "kernelspec": {
   "display_name": "Python 3",
   "language": "python",
   "name": "python3"
  },
  "language_info": {
   "codemirror_mode": {
    "name": "ipython",
    "version": 3
   },
   "file_extension": ".py",
   "mimetype": "text/x-python",
   "name": "python",
   "nbconvert_exporter": "python",
   "pygments_lexer": "ipython3",
   "version": "3.6.7"
  }
 },
 "nbformat": 4,
 "nbformat_minor": 2
}
