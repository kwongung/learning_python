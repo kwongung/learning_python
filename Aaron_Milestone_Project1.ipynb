{
  "nbformat": 4,
  "nbformat_minor": 0,
  "metadata": {
    "colab": {
      "name": "Aaron Milestone Project1.ipynb",
      "provenance": [],
      "collapsed_sections": [],
      "include_colab_link": true
    },
    "kernelspec": {
      "display_name": "Python 3",
      "language": "python",
      "name": "python3"
    },
    "language_info": {
      "codemirror_mode": {
        "name": "ipython",
        "version": 3
      },
      "file_extension": ".py",
      "mimetype": "text/x-python",
      "name": "python",
      "nbconvert_exporter": "python",
      "pygments_lexer": "ipython3",
      "version": "3.6.7"
    }
  },
  "cells": [
    {
      "cell_type": "markdown",
      "metadata": {
        "id": "view-in-github",
        "colab_type": "text"
      },
      "source": [
        "<a href=\"https://colab.research.google.com/github/kwongung/learning_python/blob/master/Aaron_Milestone_Project1.ipynb\" target=\"_parent\"><img src=\"https://colab.research.google.com/assets/colab-badge.svg\" alt=\"Open In Colab\"/></a>"
      ]
    },
    {
      "cell_type": "code",
      "metadata": {
        "colab_type": "code",
        "id": "Vs8dJEV4-_VE",
        "colab": {}
      },
      "source": [
        "def who_goes_first():\n",
        "  import random\n",
        "  x = random.randrange(1,11)\n",
        "  \n",
        "  if x%2 == 0:\n",
        "    return 'Player2'\n",
        "  else:\n",
        "    return 'Player1'\n",
        "\n",
        "    #just a change\n"
      ],
      "execution_count": 0,
      "outputs": []
    },
    {
      "cell_type": "code",
      "metadata": {
        "colab_type": "code",
        "id": "Dg84TeBeNAkL",
        "colab": {}
      },
      "source": [
        "def start_game(p):\n",
        "  \n",
        "  while p not in ['X','O']:\n",
        "    #print(player1)\n",
        "    p = input(\"Please pick a marker 'X' or'O'\").upper()\n",
        "\n",
        "    if p not in ['X','O']:\n",
        "      print('Please pick an X or O.')\n",
        "   \n",
        "  return p.upper()"
      ],
      "execution_count": 0,
      "outputs": []
    },
    {
      "cell_type": "code",
      "metadata": {
        "colab_type": "code",
        "id": "wmfM1Ezicjo5",
        "colab": {}
      },
      "source": [
        "def player1_picks():\n",
        "  \n",
        "  p1pick = int(input('Player1 make your pick'))\n",
        "\n",
        "  while picks[p1pick] in ['X','O']:\n",
        "    print('That square is already taken. Pick again.')\n",
        "    p1pick = int(input('Player1 make your pick'))\n",
        "\n",
        "  picks[p1pick] = player1\n",
        "  print ('Player1 picked square '+ str(p1pick))\n",
        "  "
      ],
      "execution_count": 0,
      "outputs": []
    },
    {
      "cell_type": "code",
      "metadata": {
        "colab_type": "code",
        "id": "cAxHM-7K61DO",
        "colab": {}
      },
      "source": [
        "def player2_picks():\n",
        "  p2pick = int(input('Player2 make your pick'))\n",
        "   \n",
        "  while picks[p2pick] in ['X','O']:\n",
        "    print('That square is already taken. Pick again.')\n",
        "    p2pick = int(input('Player2 make your pick'))\n",
        "\n",
        "  picks[p2pick] = player2\n",
        "  print ('Player2 picked square '+ str(p2pick))"
      ],
      "execution_count": 0,
      "outputs": []
    },
    {
      "cell_type": "code",
      "metadata": {
        "colab_type": "code",
        "id": "IK-QNM-Ha0Wm",
        "colab": {}
      },
      "source": [
        "\n",
        "def display_board(board):\n",
        " \n",
        "  print(board[7]+'|'+board[8]+'|'+board[9])\n",
        "  print('-----')\n",
        "  print(board[4]+'|'+board[5]+'|'+board[6])\n",
        "  print('-----')\n",
        "  print(board[1]+'|'+board[2]+'|'+board[3])"
      ],
      "execution_count": 0,
      "outputs": []
    },
    {
      "cell_type": "code",
      "metadata": {
        "colab_type": "code",
        "id": "9pC1TzNF9BLx",
        "colab": {}
      },
      "source": [
        "def winner(pick_list,marker):\n",
        "  \n",
        "  return((pick_list[7]==marker and pick_list[8]==marker and pick_list[9]==marker) or #top row\n",
        "         (pick_list[4]==marker and pick_list[5]==marker and pick_list[6]==marker) or #middle row\n",
        "         (pick_list[1]==marker and pick_list[2]==marker and pick_list[3]==marker) or #bottom row\n",
        "         (pick_list[7]==marker and pick_list[4]==marker and pick_list[1]==marker) or #left column\n",
        "         (pick_list[8]==marker and pick_list[5]==marker and pick_list[2]==marker) or #middle column\n",
        "         (pick_list[9]==marker and pick_list[6]==marker and pick_list[3]==marker) or #right column\n",
        "         (pick_list[7]==marker and pick_list[5]==marker and pick_list[3]==marker) or #diagonal\n",
        "         (pick_list[1]==marker and pick_list[5]==marker and pick_list[9]==marker)) #diagonal\n",
        "  "
      ],
      "execution_count": 0,
      "outputs": []
    },
    {
      "cell_type": "code",
      "metadata": {
        "colab_type": "code",
        "id": "uzhN5IEsVpww",
        "colab": {}
      },
      "source": [
        "def board_full(picks):\n",
        "  return ' ' == picks.values()"
      ],
      "execution_count": 0,
      "outputs": []
    },
    {
      "cell_type": "code",
      "metadata": {
        "colab_type": "code",
        "id": "_mVztN95nRN_",
        "colab": {}
      },
      "source": [
        "from IPython.display import clear_output\n",
        "#initialize player markers\n",
        "player1 = 'z'\n",
        "player2 = 'z'\n",
        "#initalize player picks\n",
        "picks={1:' ',2:' ',3:' ',4:' ',5:' ',6:' ',7:' ',8:' ',9:' '}\n",
        "\n",
        "go_first = who_goes_first()\n",
        "\n",
        "if go_first == 'Player1':\n",
        "  print('Player1 goes first')\n",
        "  player1 = start_game('a')\n",
        "  if player1 == 'X':\n",
        "    player2 = 'O'\n",
        "  else:\n",
        "    player2 ='X'\n",
        "else:\n",
        "  print('Player2 goes first')\n",
        "  player2 = start_game('a')\n",
        "  if player2 =='X':\n",
        "    player1 = 'O'\n",
        "  else:\n",
        "    player1 = 'X'\n",
        "game_on= True\n",
        "\n",
        "print('go_first = ' + go_first)\n",
        "\n",
        "while game_on:\n",
        "  \n",
        "  clear_output()\n",
        "  display_board(picks)\n",
        " \n",
        "  if go_first == 'Player1':\n",
        "    \n",
        "    player1_picks()\n",
        "    \n",
        "    if winner(picks,player1):\n",
        "      clear_output()\n",
        "      display_board(picks)\n",
        "      print('Congratulation Player1 you won')\n",
        "      game_on = False\n",
        "    elif board_full(picks):\n",
        "      clear_output()\n",
        "      print('Board is full. The game is a draw')\n",
        "      game_on = False\n",
        "    else:\n",
        "      go_first = 'Player2'\n",
        "      \n",
        "  else:\n",
        "    player2_picks()\n",
        "    \n",
        "    if winner(picks,player2):\n",
        "      clear_output()\n",
        "      display_board(picks)\n",
        "      print('Congratulation Player2 you won')\n",
        "      game_on = False\n",
        "    elif board_full(picks):\n",
        "      clear_output()\n",
        "      print('Board is full. The game is a draw')\n",
        "      game_on = False\n",
        "    else:\n",
        "      go_first = 'Player1'\n",
        "  \n",
        "   \n",
        " \n"
      ],
      "execution_count": 0,
      "outputs": []
    }
  ]
}