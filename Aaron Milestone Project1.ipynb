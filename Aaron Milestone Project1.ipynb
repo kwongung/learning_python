{
 "cells": [
  {
   "cell_type": "code",
   "execution_count": 1,
   "metadata": {
    "colab": {},
    "colab_type": "code",
    "id": "Vs8dJEV4-_VE"
   },
   "outputs": [],
   "source": [
    "def who_goes_first():\n",
    "  import random\n",
    "  x = random.randrange(1,11)\n",
    "  \n",
    "  if x%2 == 0:\n",
    "    return 'Player2'\n",
    "  else:\n",
    "    return 'Player1'\n"
   ]
  },
  {
   "cell_type": "code",
   "execution_count": 2,
   "metadata": {
    "colab": {},
    "colab_type": "code",
    "id": "Dg84TeBeNAkL"
   },
   "outputs": [],
   "source": [
    "def start_game(p):\n",
    "  \n",
    "  while p not in ['X','O']:\n",
    "    #print(player1)\n",
    "    p = input(\"Please pick a marker 'X' or'O'\").upper()\n",
    "\n",
    "    if p not in ['X','O']:\n",
    "      print('Please pick an X or O.')\n",
    "   \n",
    "  return p.upper()"
   ]
  },
  {
   "cell_type": "code",
   "execution_count": 3,
   "metadata": {
    "colab": {},
    "colab_type": "code",
    "id": "wmfM1Ezicjo5"
   },
   "outputs": [],
   "source": [
    "def player1_picks():\n",
    "  \n",
    "  p1pick = int(input('Player1 make your pick'))\n",
    "\n",
    "  while picks[p1pick] in ['X','O']:\n",
    "    print('That square is already taken. Pick again.')\n",
    "    p1pick = int(input('Player1 make your pick'))\n",
    "\n",
    "  picks[p1pick] = player1\n",
    "  print ('Player1 picked square '+ str(p1pick))\n",
    "  "
   ]
  },
  {
   "cell_type": "code",
   "execution_count": 4,
   "metadata": {
    "colab": {},
    "colab_type": "code",
    "id": "cAxHM-7K61DO"
   },
   "outputs": [],
   "source": [
    "def player2_picks():\n",
    "  p2pick = int(input('Player2 make your pick'))\n",
    "   \n",
    "  while picks[p2pick] in ['X','O']:\n",
    "    print('That square is already taken. Pick again.')\n",
    "    p2pick = int(input('Player2 make your pick'))\n",
    "\n",
    "  picks[p2pick] = player2\n",
    "  print ('Player2 picked square '+ str(p2pick))"
   ]
  },
  {
   "cell_type": "code",
   "execution_count": 5,
   "metadata": {
    "colab": {},
    "colab_type": "code",
    "id": "quiNjbR6WoGH"
   },
   "outputs": [],
   "source": [
    "#player2_picks()"
   ]
  },
  {
   "cell_type": "code",
   "execution_count": 6,
   "metadata": {
    "colab": {},
    "colab_type": "code",
    "id": "IK-QNM-Ha0Wm"
   },
   "outputs": [],
   "source": [
    "\n",
    "def display_board(board):\n",
    " \n",
    "  print(board[7]+'|'+board[8]+'|'+board[9])\n",
    "  print('-----')\n",
    "  print(board[4]+'|'+board[5]+'|'+board[6])\n",
    "  print('-----')\n",
    "  print(board[1]+'|'+board[2]+'|'+board[3])"
   ]
  },
  {
   "cell_type": "code",
   "execution_count": 7,
   "metadata": {
    "colab": {},
    "colab_type": "code",
    "id": "9pC1TzNF9BLx"
   },
   "outputs": [],
   "source": [
    "def winner(pick_list,marker):\n",
    "  \n",
    "  return((pick_list[7]==marker and pick_list[8]==marker and pick_list[9]==marker) or #top row\n",
    "         (pick_list[4]==marker and pick_list[5]==marker and pick_list[6]==marker) or #middle row\n",
    "         (pick_list[1]==marker and pick_list[2]==marker and pick_list[3]==marker) or #bottom row\n",
    "         (pick_list[7]==marker and pick_list[4]==marker and pick_list[1]==marker) or #left column\n",
    "         (pick_list[8]==marker and pick_list[5]==marker and pick_list[2]==marker) or #middle column\n",
    "         (pick_list[9]==marker and pick_list[6]==marker and pick_list[3]==marker) or #right column\n",
    "         (pick_list[7]==marker and pick_list[5]==marker and pick_list[3]==marker) or #diagonal\n",
    "         (pick_list[1]==marker and pick_list[5]==marker and pick_list[9]==marker)) #diagonal\n",
    "  "
   ]
  },
  {
   "cell_type": "code",
   "execution_count": 8,
   "metadata": {},
   "outputs": [
    {
     "ename": "NameError",
     "evalue": "name 'picks' is not defined",
     "output_type": "error",
     "traceback": [
      "\u001b[0;31m---------------------------------------------------------------------------\u001b[0m",
      "\u001b[0;31mNameError\u001b[0m                                 Traceback (most recent call last)",
      "\u001b[0;32m<ipython-input-8-32448a36b1c3>\u001b[0m in \u001b[0;36m<module>\u001b[0;34m\u001b[0m\n\u001b[0;32m----> 1\u001b[0;31m \u001b[0mprint\u001b[0m \u001b[0;34m(\u001b[0m\u001b[0mpicks\u001b[0m\u001b[0;34m,\u001b[0m \u001b[0mplayer2\u001b[0m\u001b[0;34m)\u001b[0m\u001b[0;34m\u001b[0m\u001b[0;34m\u001b[0m\u001b[0m\n\u001b[0m",
      "\u001b[0;31mNameError\u001b[0m: name 'picks' is not defined"
     ]
    }
   ],
   "source": [
    "print (picks, player2)"
   ]
  },
  {
   "cell_type": "code",
   "execution_count": 9,
   "metadata": {
    "colab": {
     "base_uri": "https://localhost:8080/",
     "height": 34
    },
    "colab_type": "code",
    "executionInfo": {
     "elapsed": 1224,
     "status": "ok",
     "timestamp": 1579552566467,
     "user": {
      "displayName": "Aaron Lee",
      "photoUrl": "https://lh3.googleusercontent.com/a-/AAuE7mCo_xNoc-bHR80qspb8qCC0YOAagcLRzYOqOrZ0GQ=s64",
      "userId": "02159711047795782162"
     },
     "user_tz": 300
    },
    "id": "T7wxmeM5iFdH",
    "outputId": "c5ec3bcc-ce78-48ef-dca3-2cbbb93996e3"
   },
   "outputs": [
    {
     "ename": "NameError",
     "evalue": "name 'picks' is not defined",
     "output_type": "error",
     "traceback": [
      "\u001b[0;31m---------------------------------------------------------------------------\u001b[0m",
      "\u001b[0;31mNameError\u001b[0m                                 Traceback (most recent call last)",
      "\u001b[0;32m<ipython-input-9-7e2bcb84c3db>\u001b[0m in \u001b[0;36m<module>\u001b[0;34m\u001b[0m\n\u001b[0;32m----> 1\u001b[0;31m \u001b[0mwinner\u001b[0m\u001b[0;34m(\u001b[0m\u001b[0mpicks\u001b[0m\u001b[0;34m,\u001b[0m\u001b[0mplayer1\u001b[0m\u001b[0;34m)\u001b[0m\u001b[0;34m\u001b[0m\u001b[0;34m\u001b[0m\u001b[0m\n\u001b[0m",
      "\u001b[0;31mNameError\u001b[0m: name 'picks' is not defined"
     ]
    }
   ],
   "source": [
    "winner(picks,player1)\n"
   ]
  },
  {
   "cell_type": "code",
   "execution_count": null,
   "metadata": {},
   "outputs": [],
   "source": []
  },
  {
   "cell_type": "code",
   "execution_count": 10,
   "metadata": {
    "colab": {
     "base_uri": "https://localhost:8080/",
     "height": 34
    },
    "colab_type": "code",
    "executionInfo": {
     "elapsed": 541,
     "status": "ok",
     "timestamp": 1579552614658,
     "user": {
      "displayName": "Aaron Lee",
      "photoUrl": "https://lh3.googleusercontent.com/a-/AAuE7mCo_xNoc-bHR80qspb8qCC0YOAagcLRzYOqOrZ0GQ=s64",
      "userId": "02159711047795782162"
     },
     "user_tz": 300
    },
    "id": "Q83CkioBp0-H",
    "outputId": "6071cb36-ed2e-4e9c-d8ef-63f4ace2420d"
   },
   "outputs": [
    {
     "ename": "NameError",
     "evalue": "name 'picks' is not defined",
     "output_type": "error",
     "traceback": [
      "\u001b[0;31m---------------------------------------------------------------------------\u001b[0m",
      "\u001b[0;31mNameError\u001b[0m                                 Traceback (most recent call last)",
      "\u001b[0;32m<ipython-input-10-c32ed6557301>\u001b[0m in \u001b[0;36m<module>\u001b[0;34m\u001b[0m\n\u001b[0;32m----> 1\u001b[0;31m \u001b[0mpicks\u001b[0m\u001b[0;34m.\u001b[0m\u001b[0mvalues\u001b[0m\u001b[0;34m(\u001b[0m\u001b[0;34m)\u001b[0m\u001b[0;34m\u001b[0m\u001b[0;34m\u001b[0m\u001b[0m\n\u001b[0m\u001b[1;32m      2\u001b[0m \u001b[0mpicks\u001b[0m\u001b[0;34m[\u001b[0m\u001b[0;36m2\u001b[0m\u001b[0;34m]\u001b[0m\u001b[0;34m\u001b[0m\u001b[0;34m\u001b[0m\u001b[0m\n",
      "\u001b[0;31mNameError\u001b[0m: name 'picks' is not defined"
     ]
    }
   ],
   "source": [
    "picks.values()\n",
    "picks[2]"
   ]
  },
  {
   "cell_type": "code",
   "execution_count": 79,
   "metadata": {
    "colab": {
     "base_uri": "https://localhost:8080/",
     "height": 34
    },
    "colab_type": "code",
    "executionInfo": {
     "elapsed": 290,
     "status": "ok",
     "timestamp": 1579552466808,
     "user": {
      "displayName": "Aaron Lee",
      "photoUrl": "https://lh3.googleusercontent.com/a-/AAuE7mCo_xNoc-bHR80qspb8qCC0YOAagcLRzYOqOrZ0GQ=s64",
      "userId": "02159711047795782162"
     },
     "user_tz": 300
    },
    "id": "JfAd5LzZqdXU",
    "outputId": "e182c8c4-ddad-40c2-bfd9-0a43bd2b1450"
   },
   "outputs": [
    {
     "data": {
      "text/plain": [
       "'X'"
      ]
     },
     "execution_count": 79,
     "metadata": {
      "tags": []
     },
     "output_type": "execute_result"
    }
   ],
   "source": [
    "player2"
   ]
  },
  {
   "cell_type": "code",
   "execution_count": 11,
   "metadata": {
    "colab": {},
    "colab_type": "code",
    "id": "uzhN5IEsVpww"
   },
   "outputs": [],
   "source": [
    "def board_full(picks):\n",
    "  return ' ' == picks.values()"
   ]
  },
  {
   "cell_type": "code",
   "execution_count": 12,
   "metadata": {
    "colab": {
     "base_uri": "https://localhost:8080/",
     "height": 629
    },
    "colab_type": "code",
    "executionInfo": {
     "elapsed": 32517,
     "status": "error",
     "timestamp": 1579552974835,
     "user": {
      "displayName": "Aaron Lee",
      "photoUrl": "https://lh3.googleusercontent.com/a-/AAuE7mCo_xNoc-bHR80qspb8qCC0YOAagcLRzYOqOrZ0GQ=s64",
      "userId": "02159711047795782162"
     },
     "user_tz": 300
    },
    "id": "_mVztN95nRN_",
    "outputId": "d3e63333-a9df-43d5-99b8-0b174f9b271e"
   },
   "outputs": [
    {
     "name": "stdout",
     "output_type": "stream",
     "text": [
      "O| |X\n",
      "-----\n",
      "X|O| \n",
      "-----\n",
      "X| |O\n",
      "Congratulation Player1 you won\n"
     ]
    }
   ],
   "source": [
    "from IPython.display import clear_output\n",
    "#initialize player markers\n",
    "player1 = 'z'\n",
    "player2 = 'z'\n",
    "#initalize player picks\n",
    "picks={1:' ',2:' ',3:' ',4:' ',5:' ',6:' ',7:' ',8:' ',9:' '}\n",
    "\n",
    "go_first = who_goes_first()\n",
    "\n",
    "if go_first == 'Player1':\n",
    "  print('Player1 goes first')\n",
    "  player1 = start_game('a')\n",
    "  if player1 == 'X':\n",
    "    player2 = 'O'\n",
    "  else:\n",
    "    player2 ='X'\n",
    "else:\n",
    "  print('Player2 goes first')\n",
    "  player2 = start_game('a')\n",
    "  if player2 =='X':\n",
    "    player1 = 'O'\n",
    "  else:\n",
    "    player1 = 'X'\n",
    "game_on= True\n",
    "\n",
    "print('go_first = ' + go_first)\n",
    "\n",
    "while game_on:\n",
    "  \n",
    "  clear_output()\n",
    "  display_board(picks)\n",
    " \n",
    "  if go_first == 'Player1':\n",
    "    \n",
    "    player1_picks()\n",
    "    \n",
    "    if winner(picks,player1):\n",
    "      clear_output()\n",
    "      display_board(picks)\n",
    "      print('Congratulation Player1 you won')\n",
    "      game_on = False\n",
    "    elif board_full(picks):\n",
    "      clear_output()\n",
    "      print('Board is full. The game is a draw')\n",
    "      game_on = False\n",
    "    else:\n",
    "      go_first = 'Player2'\n",
    "      \n",
    "  else:\n",
    "    player2_picks()\n",
    "    \n",
    "    if winner(picks,player2):\n",
    "      clear_output()\n",
    "      display_board(picks)\n",
    "      print('Congratulation Player2 you won')\n",
    "      game_on = False\n",
    "    elif board_full(picks):\n",
    "      clear_output()\n",
    "      print('Board is full. The game is a draw')\n",
    "      game_on = False\n",
    "    else:\n",
    "      go_first = 'Player1'\n",
    "  \n",
    "   \n",
    " \n"
   ]
  },
  {
   "cell_type": "code",
   "execution_count": null,
   "metadata": {},
   "outputs": [],
   "source": []
  }
 ],
 "metadata": {
  "colab": {
   "authorship_tag": "ABX9TyP6Nid65ofwAM9Tpau84wQ6",
   "collapsed_sections": [],
   "name": "Aaron Milestone Project1.ipynb",
   "provenance": []
  },
  "kernelspec": {
   "display_name": "Python [conda env:jupyter-atp] *",
   "language": "python",
   "name": "conda-env-jupyter-atp-py"
  },
  "language_info": {
   "codemirror_mode": {
    "name": "ipython",
    "version": 3
   },
   "file_extension": ".py",
   "mimetype": "text/x-python",
   "name": "python",
   "nbconvert_exporter": "python",
   "pygments_lexer": "ipython3",
   "version": "3.6.7"
  }
 },
 "nbformat": 4,
 "nbformat_minor": 2
}
